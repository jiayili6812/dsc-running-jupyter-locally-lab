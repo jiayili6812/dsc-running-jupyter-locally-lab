{
  "cells": [
    {
      "cell_type": "markdown",
      "metadata": {
        "id": "view-in-github",
        "colab_type": "text"
      },
      "source": [
        "<a href=\"https://colab.research.google.com/github/jiayili6812/dsc-running-jupyter-locally-lab/blob/master/CGLabC4M3.ipynb\" target=\"_parent\"><img src=\"https://colab.research.google.com/assets/colab-badge.svg\" alt=\"Open In Colab\"/></a>"
      ]
    },
    {
      "cell_type": "markdown",
      "metadata": {
        "id": "x4vpprfAwMnl"
      },
      "source": [
        "# Breast Cancer using Big Data Tools"
      ]
    },
    {
      "cell_type": "markdown",
      "metadata": {
        "id": "tUVuN_lAX2rI"
      },
      "source": [
        "### Step 0\n",
        "\n",
        "You are part of a research team using Big Data tools to help oncologists identify breast cancer cases more efficiently. To analyze large datasets effectively, you're asked to set up a reliable computing environment using PySpark. This step ensures your tools are ready, setting the foundation for a scalable and collaborative analysis.\n",
        "\n",
        "\n",
        "**Import the germane library**"
      ]
    },
    {
      "cell_type": "code",
      "execution_count": 1,
      "metadata": {
        "id": "VA-zDFskV4BB"
      },
      "outputs": [],
      "source": [
        "# CodeGrade step0\n",
        "from pyspark.sql import SparkSession\n",
        "import pandas as pd\n",
        "import numpy as np\n",
        "import matplotlib.pyplot as plt\n",
        "\n",
        "# Create a Spark session\n",
        "spark = SparkSession.builder \\\n",
        "    .appName(\"Breast Cancer Analysis\") \\\n",
        "    .getOrCreate()"
      ]
    },
    {
      "cell_type": "markdown",
      "metadata": {
        "id": "6UxN5LUqdgAZ"
      },
      "source": [
        "### Step 1\n",
        "\n",
        "You need a fast and distributed framework for real-time data processing. By creating a Spark session, you're simulating how hospital systems manage real-time data, ensuring the analysis pipeline is efficient and functional.\n",
        "\n",
        "**Create a Spark session where the name is \"Breast Cancer Analysis\" and verify that it is running by using this:**\n",
        "\n",
        "```\n",
        "if (spark.getActiveSession()):\n",
        "    print('yes')\n",
        "else:\n",
        "    print('no')\n",
        "```"
      ]
    },
    {
      "cell_type": "code",
      "execution_count": 5,
      "metadata": {
        "colab": {
          "base_uri": "https://localhost:8080/"
        },
        "id": "DJd_jHcrdiYE",
        "outputId": "45b0176d-5969-4215-9c03-841cc14b6a43"
      },
      "outputs": [
        {
          "output_type": "stream",
          "name": "stdout",
          "text": [
            "yes\n"
          ]
        }
      ],
      "source": [
        "# CodeGrade step1\n",
        "if (spark.getActiveSession()):\n",
        "    print('yes')\n",
        "else:\n",
        "    print('no')"
      ]
    },
    {
      "cell_type": "markdown",
      "metadata": {
        "id": "qiX5kh19dyR8"
      },
      "source": [
        "# Step 2\n",
        "\n",
        " Hospitals often store patient data in distributed databases. To prepare for further analysis and visualizations, you're tasked with loading the breast cancer dataset into Spark and converting it into a Pandas DataFrame. This mirrors the real-world task of preparing large datasets for team collaboration and actionable insights.\n",
        "\n",
        "\n",
        "* **Load the data**\n",
        "* **Create `df_pandas = spark_df.toPandas()`**"
      ]
    },
    {
      "cell_type": "code",
      "execution_count": null,
      "metadata": {
        "id": "LHlUhlRvg7oO"
      },
      "outputs": [],
      "source": [
        "# CodeGrade step0\n",
        "\n",
        "# Load the dataset into a PySpark DataFrame\n",
        "spark_df = spark.read.csv(\"breast_cancer.csv\", header=True, inferSchema=True)"
      ]
    },
    {
      "cell_type": "code",
      "execution_count": 7,
      "metadata": {
        "colab": {
          "base_uri": "https://localhost:8080/",
          "height": 74
        },
        "id": "NtOCV1uZdRJv",
        "outputId": "91ab9fb4-4f91-48b0-9997-286f99dd96e1"
      },
      "outputs": [
        {
          "output_type": "display_data",
          "data": {
            "text/plain": [
              "<IPython.core.display.HTML object>"
            ],
            "text/html": [
              "\n",
              "     <input type=\"file\" id=\"files-d2a8f5a3-62b2-457f-9340-47b4362253b5\" name=\"files[]\" multiple disabled\n",
              "        style=\"border:none\" />\n",
              "     <output id=\"result-d2a8f5a3-62b2-457f-9340-47b4362253b5\">\n",
              "      Upload widget is only available when the cell has been executed in the\n",
              "      current browser session. Please rerun this cell to enable.\n",
              "      </output>\n",
              "      <script>// Copyright 2017 Google LLC\n",
              "//\n",
              "// Licensed under the Apache License, Version 2.0 (the \"License\");\n",
              "// you may not use this file except in compliance with the License.\n",
              "// You may obtain a copy of the License at\n",
              "//\n",
              "//      http://www.apache.org/licenses/LICENSE-2.0\n",
              "//\n",
              "// Unless required by applicable law or agreed to in writing, software\n",
              "// distributed under the License is distributed on an \"AS IS\" BASIS,\n",
              "// WITHOUT WARRANTIES OR CONDITIONS OF ANY KIND, either express or implied.\n",
              "// See the License for the specific language governing permissions and\n",
              "// limitations under the License.\n",
              "\n",
              "/**\n",
              " * @fileoverview Helpers for google.colab Python module.\n",
              " */\n",
              "(function(scope) {\n",
              "function span(text, styleAttributes = {}) {\n",
              "  const element = document.createElement('span');\n",
              "  element.textContent = text;\n",
              "  for (const key of Object.keys(styleAttributes)) {\n",
              "    element.style[key] = styleAttributes[key];\n",
              "  }\n",
              "  return element;\n",
              "}\n",
              "\n",
              "// Max number of bytes which will be uploaded at a time.\n",
              "const MAX_PAYLOAD_SIZE = 100 * 1024;\n",
              "\n",
              "function _uploadFiles(inputId, outputId) {\n",
              "  const steps = uploadFilesStep(inputId, outputId);\n",
              "  const outputElement = document.getElementById(outputId);\n",
              "  // Cache steps on the outputElement to make it available for the next call\n",
              "  // to uploadFilesContinue from Python.\n",
              "  outputElement.steps = steps;\n",
              "\n",
              "  return _uploadFilesContinue(outputId);\n",
              "}\n",
              "\n",
              "// This is roughly an async generator (not supported in the browser yet),\n",
              "// where there are multiple asynchronous steps and the Python side is going\n",
              "// to poll for completion of each step.\n",
              "// This uses a Promise to block the python side on completion of each step,\n",
              "// then passes the result of the previous step as the input to the next step.\n",
              "function _uploadFilesContinue(outputId) {\n",
              "  const outputElement = document.getElementById(outputId);\n",
              "  const steps = outputElement.steps;\n",
              "\n",
              "  const next = steps.next(outputElement.lastPromiseValue);\n",
              "  return Promise.resolve(next.value.promise).then((value) => {\n",
              "    // Cache the last promise value to make it available to the next\n",
              "    // step of the generator.\n",
              "    outputElement.lastPromiseValue = value;\n",
              "    return next.value.response;\n",
              "  });\n",
              "}\n",
              "\n",
              "/**\n",
              " * Generator function which is called between each async step of the upload\n",
              " * process.\n",
              " * @param {string} inputId Element ID of the input file picker element.\n",
              " * @param {string} outputId Element ID of the output display.\n",
              " * @return {!Iterable<!Object>} Iterable of next steps.\n",
              " */\n",
              "function* uploadFilesStep(inputId, outputId) {\n",
              "  const inputElement = document.getElementById(inputId);\n",
              "  inputElement.disabled = false;\n",
              "\n",
              "  const outputElement = document.getElementById(outputId);\n",
              "  outputElement.innerHTML = '';\n",
              "\n",
              "  const pickedPromise = new Promise((resolve) => {\n",
              "    inputElement.addEventListener('change', (e) => {\n",
              "      resolve(e.target.files);\n",
              "    });\n",
              "  });\n",
              "\n",
              "  const cancel = document.createElement('button');\n",
              "  inputElement.parentElement.appendChild(cancel);\n",
              "  cancel.textContent = 'Cancel upload';\n",
              "  const cancelPromise = new Promise((resolve) => {\n",
              "    cancel.onclick = () => {\n",
              "      resolve(null);\n",
              "    };\n",
              "  });\n",
              "\n",
              "  // Wait for the user to pick the files.\n",
              "  const files = yield {\n",
              "    promise: Promise.race([pickedPromise, cancelPromise]),\n",
              "    response: {\n",
              "      action: 'starting',\n",
              "    }\n",
              "  };\n",
              "\n",
              "  cancel.remove();\n",
              "\n",
              "  // Disable the input element since further picks are not allowed.\n",
              "  inputElement.disabled = true;\n",
              "\n",
              "  if (!files) {\n",
              "    return {\n",
              "      response: {\n",
              "        action: 'complete',\n",
              "      }\n",
              "    };\n",
              "  }\n",
              "\n",
              "  for (const file of files) {\n",
              "    const li = document.createElement('li');\n",
              "    li.append(span(file.name, {fontWeight: 'bold'}));\n",
              "    li.append(span(\n",
              "        `(${file.type || 'n/a'}) - ${file.size} bytes, ` +\n",
              "        `last modified: ${\n",
              "            file.lastModifiedDate ? file.lastModifiedDate.toLocaleDateString() :\n",
              "                                    'n/a'} - `));\n",
              "    const percent = span('0% done');\n",
              "    li.appendChild(percent);\n",
              "\n",
              "    outputElement.appendChild(li);\n",
              "\n",
              "    const fileDataPromise = new Promise((resolve) => {\n",
              "      const reader = new FileReader();\n",
              "      reader.onload = (e) => {\n",
              "        resolve(e.target.result);\n",
              "      };\n",
              "      reader.readAsArrayBuffer(file);\n",
              "    });\n",
              "    // Wait for the data to be ready.\n",
              "    let fileData = yield {\n",
              "      promise: fileDataPromise,\n",
              "      response: {\n",
              "        action: 'continue',\n",
              "      }\n",
              "    };\n",
              "\n",
              "    // Use a chunked sending to avoid message size limits. See b/62115660.\n",
              "    let position = 0;\n",
              "    do {\n",
              "      const length = Math.min(fileData.byteLength - position, MAX_PAYLOAD_SIZE);\n",
              "      const chunk = new Uint8Array(fileData, position, length);\n",
              "      position += length;\n",
              "\n",
              "      const base64 = btoa(String.fromCharCode.apply(null, chunk));\n",
              "      yield {\n",
              "        response: {\n",
              "          action: 'append',\n",
              "          file: file.name,\n",
              "          data: base64,\n",
              "        },\n",
              "      };\n",
              "\n",
              "      let percentDone = fileData.byteLength === 0 ?\n",
              "          100 :\n",
              "          Math.round((position / fileData.byteLength) * 100);\n",
              "      percent.textContent = `${percentDone}% done`;\n",
              "\n",
              "    } while (position < fileData.byteLength);\n",
              "  }\n",
              "\n",
              "  // All done.\n",
              "  yield {\n",
              "    response: {\n",
              "      action: 'complete',\n",
              "    }\n",
              "  };\n",
              "}\n",
              "\n",
              "scope.google = scope.google || {};\n",
              "scope.google.colab = scope.google.colab || {};\n",
              "scope.google.colab._files = {\n",
              "  _uploadFiles,\n",
              "  _uploadFilesContinue,\n",
              "};\n",
              "})(self);\n",
              "</script> "
            ]
          },
          "metadata": {}
        },
        {
          "output_type": "stream",
          "name": "stdout",
          "text": [
            "Saving breast_cancer.csv to breast_cancer.csv\n"
          ]
        }
      ],
      "source": [
        "# CodeGrade step2\n",
        "from google.colab import files\n",
        "uploaded = files.upload()"
      ]
    },
    {
      "cell_type": "code",
      "source": [
        "spark_df = spark.read.csv(\"breast_cancer.csv\", header=True, inferSchema=True)\n",
        "df_pandas = spark_df.toPandas()"
      ],
      "metadata": {
        "id": "KpCbTiX07PQp"
      },
      "execution_count": 9,
      "outputs": []
    },
    {
      "cell_type": "markdown",
      "metadata": {
        "id": "BrJRM9CleOks"
      },
      "source": [
        "### Step 3\n",
        "\n",
        "As a new hire, your manager wants you to understand the structure of the dataset before diving into analysis. Displaying records and data types ensures you comprehend the data's shape and quality, just like how doctors ensure they have complete patient records before making decisions.\n",
        "\n",
        "*   **Load the data**\n",
        "*   **Display records and data types**\n",
        "*.  **Give (not print) the rows and columns in this format**\n",
        "```\n",
        "num_rows\n",
        "num_cols\n",
        "```\n",
        "\n",
        "\n",
        "\n",
        "\n",
        "\n"
      ]
    },
    {
      "cell_type": "code",
      "execution_count": 10,
      "metadata": {
        "colab": {
          "base_uri": "https://localhost:8080/"
        },
        "id": "mFCYLJGgwc0E",
        "outputId": "9a482d77-c9fc-4a75-e57a-8cc64684825b"
      },
      "outputs": [
        {
          "output_type": "stream",
          "name": "stdout",
          "text": [
            "root\n",
            " |-- id: integer (nullable = true)\n",
            " |-- diagnosis: string (nullable = true)\n",
            " |-- radius_mean: double (nullable = true)\n",
            " |-- texture_mean: double (nullable = true)\n",
            " |-- perimeter_mean: double (nullable = true)\n",
            " |-- area_mean: double (nullable = true)\n",
            " |-- smoothness_mean: double (nullable = true)\n",
            " |-- compactness_mean: double (nullable = true)\n",
            " |-- concavity_mean: double (nullable = true)\n",
            " |-- concave points_mean: double (nullable = true)\n",
            " |-- symmetry_mean: double (nullable = true)\n",
            " |-- fractal_dimension_mean: double (nullable = true)\n",
            " |-- radius_se: double (nullable = true)\n",
            " |-- texture_se: double (nullable = true)\n",
            " |-- perimeter_se: double (nullable = true)\n",
            " |-- area_se: double (nullable = true)\n",
            " |-- smoothness_se: double (nullable = true)\n",
            " |-- compactness_se: double (nullable = true)\n",
            " |-- concavity_se: double (nullable = true)\n",
            " |-- concave points_se: double (nullable = true)\n",
            " |-- symmetry_se: double (nullable = true)\n",
            " |-- fractal_dimension_se: double (nullable = true)\n",
            " |-- radius_worst: double (nullable = true)\n",
            " |-- texture_worst: double (nullable = true)\n",
            " |-- perimeter_worst: double (nullable = true)\n",
            " |-- area_worst: double (nullable = true)\n",
            " |-- smoothness_worst: double (nullable = true)\n",
            " |-- compactness_worst: double (nullable = true)\n",
            " |-- concavity_worst: double (nullable = true)\n",
            " |-- concave points_worst: double (nullable = true)\n",
            " |-- symmetry_worst: double (nullable = true)\n",
            " |-- fractal_dimension_worst: double (nullable = true)\n",
            " |-- _c32: string (nullable = true)\n",
            "\n",
            "+--------+---------+-----------+------------+--------------+---------+---------------+----------------+--------------+-------------------+-------------+----------------------+---------+----------+------------+-------+-------------+--------------+------------+-----------------+-----------+--------------------+------------+-------------+---------------+----------+----------------+-----------------+---------------+--------------------+--------------+-----------------------+----+\n",
            "|      id|diagnosis|radius_mean|texture_mean|perimeter_mean|area_mean|smoothness_mean|compactness_mean|concavity_mean|concave points_mean|symmetry_mean|fractal_dimension_mean|radius_se|texture_se|perimeter_se|area_se|smoothness_se|compactness_se|concavity_se|concave points_se|symmetry_se|fractal_dimension_se|radius_worst|texture_worst|perimeter_worst|area_worst|smoothness_worst|compactness_worst|concavity_worst|concave points_worst|symmetry_worst|fractal_dimension_worst|_c32|\n",
            "+--------+---------+-----------+------------+--------------+---------+---------------+----------------+--------------+-------------------+-------------+----------------------+---------+----------+------------+-------+-------------+--------------+------------+-----------------+-----------+--------------------+------------+-------------+---------------+----------+----------------+-----------------+---------------+--------------------+--------------+-----------------------+----+\n",
            "|  842302|        M|      17.99|       10.38|         122.8|   1001.0|         0.1184|          0.2776|        0.3001|             0.1471|       0.2419|               0.07871|    1.095|    0.9053|       8.589|  153.4|     0.006399|       0.04904|     0.05373|          0.01587|    0.03003|            0.006193|       25.38|        17.33|          184.6|    2019.0|          0.1622|           0.6656|         0.7119|              0.2654|        0.4601|                 0.1189|NULL|\n",
            "|  842517|        M|      20.57|       17.77|         132.9|   1326.0|        0.08474|         0.07864|        0.0869|            0.07017|       0.1812|               0.05667|   0.5435|    0.7339|       3.398|  74.08|     0.005225|       0.01308|      0.0186|           0.0134|    0.01389|            0.003532|       24.99|        23.41|          158.8|    1956.0|          0.1238|           0.1866|         0.2416|               0.186|         0.275|                0.08902|NULL|\n",
            "|84300903|        M|      19.69|       21.25|         130.0|   1203.0|         0.1096|          0.1599|        0.1974|             0.1279|       0.2069|               0.05999|   0.7456|    0.7869|       4.585|  94.03|      0.00615|       0.04006|     0.03832|          0.02058|     0.0225|            0.004571|       23.57|        25.53|          152.5|    1709.0|          0.1444|           0.4245|         0.4504|               0.243|        0.3613|                0.08758|NULL|\n",
            "|84348301|        M|      11.42|       20.38|         77.58|    386.1|         0.1425|          0.2839|        0.2414|             0.1052|       0.2597|               0.09744|   0.4956|     1.156|       3.445|  27.23|      0.00911|       0.07458|     0.05661|          0.01867|    0.05963|            0.009208|       14.91|         26.5|          98.87|     567.7|          0.2098|           0.8663|         0.6869|              0.2575|        0.6638|                  0.173|NULL|\n",
            "|84358402|        M|      20.29|       14.34|         135.1|   1297.0|         0.1003|          0.1328|         0.198|             0.1043|       0.1809|               0.05883|   0.7572|    0.7813|       5.438|  94.44|      0.01149|       0.02461|     0.05688|          0.01885|    0.01756|            0.005115|       22.54|        16.67|          152.2|    1575.0|          0.1374|            0.205|            0.4|              0.1625|        0.2364|                0.07678|NULL|\n",
            "+--------+---------+-----------+------------+--------------+---------+---------------+----------------+--------------+-------------------+-------------+----------------------+---------+----------+------------+-------+-------------+--------------+------------+-----------------+-----------+--------------------+------------+-------------+---------------+----------+----------------+-----------------+---------------+--------------------+--------------+-----------------------+----+\n",
            "only showing top 5 rows\n",
            "\n"
          ]
        }
      ],
      "source": [
        "# Run this code\n",
        "\n",
        "# Display schema and first few rows\n",
        "spark_df.printSchema()\n",
        "spark_df.show(5)"
      ]
    },
    {
      "cell_type": "code",
      "execution_count": 11,
      "metadata": {
        "colab": {
          "base_uri": "https://localhost:8080/"
        },
        "id": "f8H9ESFovghj",
        "outputId": "a5950531-ebc1-4ebf-dac5-54d84330d9f0"
      },
      "outputs": [
        {
          "output_type": "execute_result",
          "data": {
            "text/plain": [
              "(569, 33)"
            ]
          },
          "metadata": {},
          "execution_count": 11
        }
      ],
      "source": [
        "# CodeGrade step3\n",
        "num_rows, num_cols = df_pandas.shape\n",
        "(num_rows, num_cols)"
      ]
    },
    {
      "cell_type": "markdown",
      "metadata": {
        "id": "te8KrG29wPUX"
      },
      "source": [
        "### Step 4\n",
        "\n",
        "The dataset you’re working with may contain inconsistencies, just as hospital records sometimes do. Cleaning the data helps ensure the findings are reliable and aligns with your responsibility to maintain high standards in healthcare analytics.\n",
        "\n",
        "*   **Select the 50th row**\n",
        "  * **Call this `row_50`**\n",
        "* **Find the radius mean value value of the 50th row**\n",
        "  * **Call this `radius_mean_value`**"
      ]
    },
    {
      "cell_type": "code",
      "execution_count": 13,
      "metadata": {
        "colab": {
          "base_uri": "https://localhost:8080/"
        },
        "id": "dSl05Kz9WQmX",
        "outputId": "8beb8a3e-61b1-4ca7-d4a5-455e2ee9762e",
        "collapsed": true
      },
      "outputs": [
        {
          "output_type": "stream",
          "name": "stdout",
          "text": [
            "50th row:\n",
            " id                           857156\n",
            "diagnosis                         B\n",
            "radius_mean                   13.49\n",
            "texture_mean                   22.3\n",
            "perimeter_mean                86.91\n",
            "area_mean                     561.0\n",
            "smoothness_mean             0.08752\n",
            "compactness_mean            0.07698\n",
            "concavity_mean              0.04751\n",
            "concave points_mean         0.03384\n",
            "symmetry_mean                0.1809\n",
            "fractal_dimension_mean      0.05718\n",
            "radius_se                    0.2338\n",
            "texture_se                    1.353\n",
            "perimeter_se                  1.735\n",
            "area_se                        20.2\n",
            "smoothness_se              0.004455\n",
            "compactness_se              0.01382\n",
            "concavity_se                0.02095\n",
            "concave points_se           0.01184\n",
            "symmetry_se                 0.01641\n",
            "fractal_dimension_se       0.001956\n",
            "radius_worst                  15.15\n",
            "texture_worst                 31.82\n",
            "perimeter_worst                99.0\n",
            "area_worst                    698.8\n",
            "smoothness_worst             0.1162\n",
            "compactness_worst            0.1711\n",
            "concavity_worst              0.2282\n",
            "concave points_worst         0.1282\n",
            "symmetry_worst               0.2871\n",
            "fractal_dimension_worst     0.06917\n",
            "_c32                           None\n",
            "Name: 49, dtype: object\n",
            "\n",
            "radius_mean_value: 13.49\n"
          ]
        }
      ],
      "source": [
        "# CodeGrade step4\n",
        "row_50 = df_pandas.iloc[49]\n",
        "radius_mean_value = row_50['radius_mean']\n",
        "print(\"50th row:\\n\", row_50)\n",
        "print(\"\\nradius_mean_value:\", radius_mean_value)"
      ]
    },
    {
      "cell_type": "markdown",
      "metadata": {
        "id": "IlPc8DsXgdcc"
      },
      "source": [
        "### Step 5\n",
        "\n",
        "You’re tasked with helping oncologists identify critical patterns. By focusing on key features in the dataset, you’re pinpointing variables that significantly impact diagnoses, guiding doctors in making evidence-based decisions\n",
        "\n",
        "* **Find the counts of the number of malignant and benign diagnosis**\n",
        "  * **Call these `m_count` and `b_count`, respectively**\n",
        "* **Then take the difference of malignant and benign**\n",
        "  * **Call this `diagnosis_diff`**\n"
      ]
    },
    {
      "cell_type": "code",
      "execution_count": 23,
      "metadata": {
        "colab": {
          "base_uri": "https://localhost:8080/"
        },
        "id": "zTqLsEs5gjf-",
        "outputId": "3424e7fd-246f-479d-e996-f072250f8514"
      },
      "outputs": [
        {
          "output_type": "stream",
          "name": "stdout",
          "text": [
            "Malignant count: 212\n",
            "Benign count: 357\n",
            "Difference between malignant and benign: -145\n"
          ]
        }
      ],
      "source": [
        "# CodeGrade step5\n",
        "diagnosis_counts = df_pandas['diagnosis'].value_counts()\n",
        "\n",
        "m_count = diagnosis_counts.get('M',0)\n",
        "b_count = diagnosis_counts.get('B',0)\n",
        "diagnosis_diff = m_count - b_count\n",
        "\n",
        "\n",
        "print(\"Malignant count:\", m_count)\n",
        "print(\"Benign count:\", b_count)\n",
        "print(\"Difference between malignant and benign:\", diagnosis_diff)"
      ]
    },
    {
      "cell_type": "markdown",
      "metadata": {
        "id": "6lXWcWNrk8KJ"
      },
      "source": [
        "### Step 6\n",
        "\n",
        "A chief oncologist asks you to present findings to a panel. Visualizing the data allows you to communicate complex results effectively, enabling stakeholders to grasp critical insights that aid in policy decisions or medical strategies.\n",
        "\n",
        "Create a *relative frequency* bar plot to show the distribution of benign and malignant cases. **bold text**\n",
        "* **Call the Plot \"Diagnosis Class Balance\", the x-axis \"Diagnosis\", and the y-axis \"Relative Frequency\"**\n",
        "* **Print the relative frequency of the Malignant cases**\n",
        "  * **The last line of code should be**\n",
        "    > **`relative_frequencies['M']`**\n",
        "\n"
      ]
    },
    {
      "cell_type": "code",
      "execution_count": 32,
      "metadata": {
        "colab": {
          "base_uri": "https://localhost:8080/",
          "height": 488
        },
        "id": "AQLE-OqYkqh4",
        "outputId": "13f418c3-bae6-4ad4-ada1-4eb64929f075"
      },
      "outputs": [
        {
          "output_type": "execute_result",
          "data": {
            "text/plain": [
              "Text(0, 0.5, 'Relative Frequency')"
            ]
          },
          "metadata": {},
          "execution_count": 32
        },
        {
          "output_type": "display_data",
          "data": {
            "text/plain": [
              "<Figure size 640x480 with 1 Axes>"
            ],
            "image/png": "[encoded data removed]"
          },
          "metadata": {}
        }
      ],
      "source": [
        "#CodeGrade step6\n",
        "\n",
        "df_pandas['diagnosis'].value_counts().plot(kind='bar')\n",
        "plt.title(\"Diagnosis Class Balance\")\n",
        "plt.xlabel(\"Diagnosis\")\n",
        "plt.ylabel(\"Relative Frequency\")\n"
      ]
    },
    {
      "cell_type": "markdown",
      "metadata": {
        "id": "jqh20AWIi_So"
      },
      "source": [
        "### Step 7\n",
        "\n",
        "In the fight against cancer, the insights drawn depend heavily on the way data is processed. By creating new features or transforming existing ones, you're emulating how doctors refine raw observations into meaningful diagnostic indicators. This task helps extract deeper insights from the dataset, simulating the development of more precise diagnostic tools.\n",
        "\n",
        "**Use PySpark's `.describe()` to see statistics for each feature, which will help you understand the ranges and distributions of the data.**\n",
        "\n",
        "**Convert the PySpark DataFrame to Pandas for these calculations:**\n",
        "* **maximum of the `fractal_dimension_mean`**\n",
        "  * **Call this `max_fractal_dimension_mean`**\n",
        "* **minimum of the `symmetry_mean`**\n",
        "  * **Call this `min_symmetry_mean`**\n",
        "\n",
        "**Take the absolute value of the difference of the `max_fractal_dimension_mean` and `min_symmetry_mean`.**\n",
        "*  **Round to four decimal places**\n",
        "*  **Call this `range_diff`**"
      ]
    },
    {
      "cell_type": "code",
      "execution_count": null,
      "metadata": {
        "id": "nhJUPR9ZjH5r"
      },
      "outputs": [],
      "source": [
        "# Run this code\n",
        "\n",
        "# Use PySpark to describe the dataset\n",
        "spark_df.describe().show()"
      ]
    },
    {
      "cell_type": "code",
      "execution_count": 36,
      "metadata": {
        "colab": {
          "base_uri": "https://localhost:8080/"
        },
        "id": "M1y56g8yjhDk",
        "outputId": "8e98c5ff-14cd-4cea-b041-0c006db7ee03"
      },
      "outputs": [
        {
          "output_type": "stream",
          "name": "stdout",
          "text": [
            "+-------+--------------------+---------+------------------+-----------------+-----------------+-----------------+--------------------+-------------------+-------------------+--------------------+--------------------+----------------------+------------------+------------------+------------------+-----------------+--------------------+--------------------+--------------------+--------------------+--------------------+--------------------+------------------+------------------+------------------+-----------------+--------------------+-------------------+-------------------+--------------------+-------------------+-----------------------+----+\n",
            "|summary|                  id|diagnosis|       radius_mean|     texture_mean|   perimeter_mean|        area_mean|     smoothness_mean|   compactness_mean|     concavity_mean| concave points_mean|       symmetry_mean|fractal_dimension_mean|         radius_se|        texture_se|      perimeter_se|          area_se|       smoothness_se|      compactness_se|        concavity_se|   concave points_se|         symmetry_se|fractal_dimension_se|      radius_worst|     texture_worst|   perimeter_worst|       area_worst|    smoothness_worst|  compactness_worst|    concavity_worst|concave points_worst|     symmetry_worst|fractal_dimension_worst|_c32|\n",
            "+-------+--------------------+---------+------------------+-----------------+-----------------+-----------------+--------------------+-------------------+-------------------+--------------------+--------------------+----------------------+------------------+------------------+------------------+-----------------+--------------------+--------------------+--------------------+--------------------+--------------------+--------------------+------------------+------------------+------------------+-----------------+--------------------+-------------------+-------------------+--------------------+-------------------+-----------------------+----+\n",
            "|  count|                 569|      569|               569|              569|              569|              569|                 569|                569|                569|                 569|                 569|                   569|               569|               569|               569|              569|                 569|                 569|                 569|                 569|                 569|                 569|               569|               569|               569|              569|                 569|                569|                569|                 569|                569|                    569|   0|\n",
            "|   mean|3.0371831432337433E7|     NULL|14.127291739894563|19.28964850615117|91.96903339191566|654.8891036906857|   0.096360281195079|0.10434098418277686|0.08879931581722322|0.048919145869947236|   0.181161862917399|   0.06279760984182778|0.4051720562390161|1.2168534270650269|2.8660592267135288|40.33707908611603|0.007040978910369071|0.025478138840070306|0.031893716344463946|0.011796137082601056|0.020542298769771532|0.003794903866432...|16.269189806678394|25.677223198594014| 107.2612126537786|880.5831282952545| 0.13236859402460469|0.25426504393673144|0.27218848330404205| 0.11460622319859404|0.29007557117750454|    0.08394581722319855|NULL|\n",
            "| stddev|1.2502058561222367E8|     NULL|3.5240488262120793|4.301035768166948| 24.2989810387549|351.9141291816529|0.014064128137673616| 0.0528127579325122|0.07971980870789354| 0.03880284485915361|0.027414281336035712|  0.007060362795084457|0.2773127329861039|0.5516483926172022|2.0218545540421085|45.49100551613178|0.003002517943839066| 0.01790817932567739|0.030186060322988394|0.006170285174046867|0.008266371528798402|0.002646070967089195| 4.833241580469323|6.1462576230383235|33.602542269036356|569.3569926699494|0.022832429404835465|  0.157336488913742|0.20862428060813235| 0.06573234119594208|0.06186746753751871|    0.01806126734889399|NULL|\n",
            "|    min|                8670|        B|             6.981|             9.71|            43.79|            143.5|             0.05263|            0.01938|                0.0|                 0.0|               0.106|               0.04996|            0.1115|            0.3602|             0.757|            6.802|            0.001713|            0.002252|                 0.0|                 0.0|            0.007882|            8.948E-4|              7.93|             12.02|             50.41|            185.2|             0.07117|            0.02729|                0.0|                 0.0|             0.1565|                0.05504|NULL|\n",
            "|    max|           911320502|        M|             28.11|            39.28|            188.5|           2501.0|              0.1634|             0.3454|             0.4268|              0.2012|               0.304|               0.09744|             2.873|             4.885|             21.98|            542.2|             0.03113|              0.1354|               0.396|             0.05279|             0.07895|             0.02984|             36.04|             49.54|             251.2|           4254.0|              0.2226|              1.058|              1.252|               0.291|             0.6638|                 0.2075|NULL|\n",
            "+-------+--------------------+---------+------------------+-----------------+-----------------+-----------------+--------------------+-------------------+-------------------+--------------------+--------------------+----------------------+------------------+------------------+------------------+-----------------+--------------------+--------------------+--------------------+--------------------+--------------------+--------------------+------------------+------------------+------------------+-----------------+--------------------+-------------------+-------------------+--------------------+-------------------+-----------------------+----+\n",
            "\n"
          ]
        },
        {
          "output_type": "execute_result",
          "data": {
            "text/plain": [
              "0.0086"
            ]
          },
          "metadata": {},
          "execution_count": 36
        }
      ],
      "source": [
        "#CodeGrade step7\n",
        "\n",
        "spark_df.describe().show() #see stats for each feature\n",
        "\n",
        "#max of fractal_dimension_mean\n",
        "max_fractal_dimension_mean = df_pandas['fractal_dimension_mean'].max()\n",
        "\n",
        "#min of symmetry mean\n",
        "min_symmetry_mean = df_pandas['symmetry_mean'].min()\n",
        "\n",
        "max_fractal_dimension_mean, min_symmetry_mean #display\n",
        "\n",
        "#absolute different between the two and round to four decimal places\n",
        "range_diff = round(abs(max_fractal_dimension_mean -min_symmetry_mean),4)\n",
        "range_diff\n"
      ]
    },
    {
      "cell_type": "markdown",
      "metadata": {
        "id": "elHoQsTPkq80"
      },
      "source": [
        "### Step 8\n",
        "\n",
        "You’re part of a team developing an AI system to assist doctors in identifying potential cancer cases. By building predictive models, you’re taking a crucial step toward automating diagnosis, helping reduce the workload on medical professionals while improving patient outcomes.\n",
        "\n",
        "\n",
        "Let's suppose that you have reason to believe that the product of the 'radius_mean', 'texture_mean', and 'perimeter_mean' is meaningful to verify a diagnosis of Benign.\n",
        "\n",
        "Use pandas to find the **bold text**\n",
        "*   **Average of `radius_mean`, `texture_mean`, and `perimeter_mean` for each diagnosis (all three rounded to two decimal places) only for the Benign case**\n",
        "  * **Call these, respectively, `radius_mean_b`, `texture_mean_b`, and `perimeter_mean_b`**\n",
        "*   **Return only the product of the these three rounded means (and multiply in the order given)**"
      ]
    },
    {
      "cell_type": "code",
      "execution_count": 42,
      "metadata": {
        "colab": {
          "base_uri": "https://localhost:8080/"
        },
        "id": "WbYW6KNdnYG8",
        "outputId": "7b9ce27b-a0fe-48c4-fbb3-d1e2d31e5375"
      },
      "outputs": [
        {
          "output_type": "execute_result",
          "data": {
            "text/plain": [
              "16990.71552"
            ]
          },
          "metadata": {},
          "execution_count": 42
        }
      ],
      "source": [
        "#CodeGrade step08\n",
        "radius_mean_b = round(df_pandas[df_pandas['diagnosis']== 'B']['radius_mean'].mean(), 2)\n",
        "texture_mean_b = round(df_pandas[df_pandas['diagnosis']== 'B']['texture_mean'].mean(), 2)\n",
        "perimeter_mean_b = round(df_pandas[df_pandas['diagnosis']== 'B']['perimeter_mean'].mean(), 2)\n",
        "\n",
        "product = float(radius_mean_b * texture_mean_b * perimeter_mean_b)\n",
        "product"
      ]
    },
    {
      "cell_type": "markdown",
      "metadata": {
        "id": "ss_-XfUtqOcf"
      },
      "source": [
        "### Step 9\n",
        "\n",
        "A hospital’s board of directors is reviewing the accuracy and reliability of your system before rolling it out. Evaluating the model ensures that it’s trustworthy and aligns with the hospital's commitment to high standards of care. Your analysis helps build confidence in the tool’s ability to assist in life-saving decisions.\n",
        "\n",
        "Let's suppose that you have reason to believe that the average of the ratio of the `radius_mean` and the `perimeter_mean` are meaningful for the Malignant cases.\n",
        "\n",
        "**Use pandas to compute**\n",
        "\n",
        "*   **Average of the ratio of the `radius_mean` and the `perimeter_mean` only for the Malignant cases**\n",
        "  * **Call this `ratios`**\n",
        "*   **Round this to two decimal places**\n",
        "  * **Call the result `mean_radius_perimeter_ratio`**\n"
      ]
    },
    {
      "cell_type": "code",
      "execution_count": 50,
      "metadata": {
        "colab": {
          "base_uri": "https://localhost:8080/"
        },
        "id": "DqTZQHsmqNp4",
        "outputId": "bb5a28b3-2c17-44be-832d-640d0a328477"
      },
      "outputs": [
        {
          "output_type": "execute_result",
          "data": {
            "text/plain": [
              "0.15"
            ]
          },
          "metadata": {},
          "execution_count": 50
        }
      ],
      "source": [
        "# CodeGrade step9\n",
        "\n",
        "#Find only for Malignant cases\n",
        "malignant_cases = df_pandas[df_pandas['diagnosis'] == 'M']\n",
        "all_m_ratios = malignant_cases['radius_mean'] / malignant_cases['perimeter_mean']\n",
        "ratios = float(all_m_ratios.mean())\n",
        "mean_radius_perimeter_ratio = round(ratios,2)\n",
        "mean_radius_perimeter_ratio"
      ]
    },
    {
      "cell_type": "markdown",
      "metadata": {
        "id": "12XKuaS7smWa"
      },
      "source": [
        "### Step 10\n",
        "\n",
        "\n",
        "**Close the spark session, where verification that it is closed will result in the output of 'yes'**\n",
        "*    ***Hint*: Use code similar to what was used in Step 1.**\n",
        "\n"
      ]
    },
    {
      "cell_type": "code",
      "execution_count": 52,
      "metadata": {
        "colab": {
          "base_uri": "https://localhost:8080/"
        },
        "id": "iRQam9SJtstV",
        "outputId": "a7cba0d8-2527-48dc-ee39-c46268b23d39"
      },
      "outputs": [
        {
          "output_type": "stream",
          "name": "stdout",
          "text": [
            "yes\n"
          ]
        }
      ],
      "source": [
        "# CodeGrade step10\n",
        "spark.stop()\n",
        "\n",
        "if not (spark.getActiveSession()):\n",
        "    print('yes')\n",
        "else:\n",
        "    print('no')"
      ]
    }
  ],
  "metadata": {
    "colab": {
      "provenance": [],
      "include_colab_link": true
    },
    "kernelspec": {
      "display_name": "Python 3 (ipykernel)",
      "language": "python",
      "name": "python3"
    },
    "language_info": {
      "codemirror_mode": {
        "name": "ipython",
        "version": 3
      },
      "file_extension": ".py",
      "mimetype": "text/x-python",
      "name": "python",
      "nbconvert_exporter": "python",
      "pygments_lexer": "ipython3",
      "version": "3.9.16"
    }
  },
  "nbformat": 4,
  "nbformat_minor": 0
}